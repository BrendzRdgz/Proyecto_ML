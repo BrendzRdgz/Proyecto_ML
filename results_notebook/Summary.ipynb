{
 "cells": [
  {
   "cell_type": "markdown",
   "metadata": {},
   "source": [
    "**Index**\n",
    "\n",
    "1. [Introduction](#introduction)\n",
    "2. [Dataset description](#dataset-description)\n",
    "3. [Cleaning data](#cleaning-data)\n",
    "3. [EDA](#eda)\n",
    "4. [Split and modeling](#split-and-modeling)\n",
    "\n",
    "    [Training models using Machine Learning](#training-models-using-machine-learning)\n",
    "\n",
    "    [Optimization and evaluation of the model](#optimization-and-evaluation-of-the-model)\n",
    "6. [Conclusion](#conclusion)"
   ]
  },
  {
   "cell_type": "markdown",
   "metadata": {},
   "source": [
    "Introducción\n",
    "Descripción del Dataset\n",
    "Análisis Exploratorio de Datos (EDA)\n",
    "Preprocesamiento de Datos\n",
    "Entrenamiento de Modelos de Machine Learning\n",
    "Optimización de Hiperparámetros\n",
    "Evaluación de Modelos\n",
    "Conclusión"
   ]
  },
  {
   "cell_type": "code",
   "execution_count": null,
   "metadata": {},
   "outputs": [],
   "source": []
  }
 ],
 "metadata": {
  "language_info": {
   "name": "python"
  }
 },
 "nbformat": 4,
 "nbformat_minor": 2
}
