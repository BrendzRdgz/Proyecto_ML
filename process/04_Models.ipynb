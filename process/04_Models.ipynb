{
 "cells": [
  {
   "cell_type": "markdown",
   "metadata": {},
   "source": [
    "# Use of the model"
   ]
  },
  {
   "cell_type": "markdown",
   "metadata": {},
   "source": [
    "**Index**\n",
    "\n",
    "1. [Import libraries](#import-libraries)\n",
    "2. [Load the saved model](#load-the-saved-model)\n",
    "3. [Define the Data for Several New Patients](#define-the-data-for-several-new-patients)\n",
    "3. [Predictions and results](#predictions-and-results)"
   ]
  },
  {
   "cell_type": "markdown",
   "metadata": {},
   "source": [
    "### Import libraries"
   ]
  },
  {
   "cell_type": "code",
   "execution_count": 3,
   "metadata": {},
   "outputs": [],
   "source": [
    "import pandas as pd\n",
    "import pickle\n",
    "import os"
   ]
  },
  {
   "cell_type": "markdown",
   "metadata": {},
   "source": [
    "### Load the saved model"
   ]
  },
  {
   "cell_type": "code",
   "execution_count": 4,
   "metadata": {},
   "outputs": [],
   "source": [
    "# Load the saved model\n",
    "model_folder = \"../model\"\n",
    "pickle_file = os.path.join(model_folder,\"best_rf_model.pkl\")\n",
    "with open(pickle_file, 'rb') as file:\n",
    "    loaded_model = pickle.load(file)"
   ]
  },
  {
   "cell_type": "code",
   "execution_count": 5,
   "metadata": {},
   "outputs": [
    {
     "name": "stdout",
     "output_type": "stream",
     "text": [
      "Tipo del modelo cargado: <class 'sklearn.model_selection._search.GridSearchCV'>\n"
     ]
    }
   ],
   "source": [
    "# Verify the type of the loaded object\n",
    "print(f\"Tipo del modelo cargado: {type(loaded_model)}\")"
   ]
  },
  {
   "cell_type": "markdown",
   "metadata": {},
   "source": [
    "### Define the Data for Several New Patients"
   ]
  },
  {
   "cell_type": "code",
   "execution_count": 6,
   "metadata": {},
   "outputs": [
    {
     "data": {
      "text/html": [
       "<div>\n",
       "<style scoped>\n",
       "    .dataframe tbody tr th:only-of-type {\n",
       "        vertical-align: middle;\n",
       "    }\n",
       "\n",
       "    .dataframe tbody tr th {\n",
       "        vertical-align: top;\n",
       "    }\n",
       "\n",
       "    .dataframe thead th {\n",
       "        text-align: right;\n",
       "    }\n",
       "</style>\n",
       "<table border=\"1\" class=\"dataframe\">\n",
       "  <thead>\n",
       "    <tr style=\"text-align: right;\">\n",
       "      <th></th>\n",
       "      <th>Age</th>\n",
       "      <th>Cholesterol</th>\n",
       "      <th>MaxHR</th>\n",
       "      <th>Oldpeak</th>\n",
       "      <th>RestingBP</th>\n",
       "      <th>ChestPainType_ATA</th>\n",
       "      <th>ChestPainType_NAP</th>\n",
       "      <th>ChestPainType_TA</th>\n",
       "      <th>ExerciseAngina_Y</th>\n",
       "      <th>FastingBS_True</th>\n",
       "      <th>RestingECG_Normal</th>\n",
       "      <th>RestingECG_ST</th>\n",
       "      <th>ST_Slope_Flat</th>\n",
       "      <th>ST_Slope_Up</th>\n",
       "      <th>Sex_M</th>\n",
       "    </tr>\n",
       "  </thead>\n",
       "  <tbody>\n",
       "    <tr>\n",
       "      <th>0</th>\n",
       "      <td>55</td>\n",
       "      <td>220.0</td>\n",
       "      <td>130.0</td>\n",
       "      <td>1.5</td>\n",
       "      <td>140.0</td>\n",
       "      <td>False</td>\n",
       "      <td>True</td>\n",
       "      <td>False</td>\n",
       "      <td>True</td>\n",
       "      <td>False</td>\n",
       "      <td>True</td>\n",
       "      <td>False</td>\n",
       "      <td>False</td>\n",
       "      <td>True</td>\n",
       "      <td>True</td>\n",
       "    </tr>\n",
       "    <tr>\n",
       "      <th>1</th>\n",
       "      <td>60</td>\n",
       "      <td>180.0</td>\n",
       "      <td>150.0</td>\n",
       "      <td>0.5</td>\n",
       "      <td>130.0</td>\n",
       "      <td>True</td>\n",
       "      <td>False</td>\n",
       "      <td>False</td>\n",
       "      <td>False</td>\n",
       "      <td>True</td>\n",
       "      <td>False</td>\n",
       "      <td>True</td>\n",
       "      <td>True</td>\n",
       "      <td>False</td>\n",
       "      <td>False</td>\n",
       "    </tr>\n",
       "    <tr>\n",
       "      <th>2</th>\n",
       "      <td>45</td>\n",
       "      <td>250.0</td>\n",
       "      <td>140.0</td>\n",
       "      <td>2.0</td>\n",
       "      <td>145.0</td>\n",
       "      <td>False</td>\n",
       "      <td>True</td>\n",
       "      <td>True</td>\n",
       "      <td>True</td>\n",
       "      <td>False</td>\n",
       "      <td>True</td>\n",
       "      <td>False</td>\n",
       "      <td>False</td>\n",
       "      <td>True</td>\n",
       "      <td>True</td>\n",
       "    </tr>\n",
       "    <tr>\n",
       "      <th>3</th>\n",
       "      <td>50</td>\n",
       "      <td>200.0</td>\n",
       "      <td>160.0</td>\n",
       "      <td>1.0</td>\n",
       "      <td>135.0</td>\n",
       "      <td>True</td>\n",
       "      <td>False</td>\n",
       "      <td>False</td>\n",
       "      <td>False</td>\n",
       "      <td>True</td>\n",
       "      <td>True</td>\n",
       "      <td>False</td>\n",
       "      <td>True</td>\n",
       "      <td>False</td>\n",
       "      <td>True</td>\n",
       "    </tr>\n",
       "    <tr>\n",
       "      <th>4</th>\n",
       "      <td>65</td>\n",
       "      <td>230.0</td>\n",
       "      <td>135.0</td>\n",
       "      <td>1.8</td>\n",
       "      <td>150.0</td>\n",
       "      <td>False</td>\n",
       "      <td>True</td>\n",
       "      <td>False</td>\n",
       "      <td>True</td>\n",
       "      <td>False</td>\n",
       "      <td>False</td>\n",
       "      <td>True</td>\n",
       "      <td>False</td>\n",
       "      <td>True</td>\n",
       "      <td>False</td>\n",
       "    </tr>\n",
       "  </tbody>\n",
       "</table>\n",
       "</div>"
      ],
      "text/plain": [
       "   Age  Cholesterol  MaxHR  Oldpeak  RestingBP  ChestPainType_ATA  \\\n",
       "0   55        220.0  130.0      1.5      140.0              False   \n",
       "1   60        180.0  150.0      0.5      130.0               True   \n",
       "2   45        250.0  140.0      2.0      145.0              False   \n",
       "3   50        200.0  160.0      1.0      135.0               True   \n",
       "4   65        230.0  135.0      1.8      150.0              False   \n",
       "\n",
       "   ChestPainType_NAP  ChestPainType_TA  ExerciseAngina_Y  FastingBS_True  \\\n",
       "0               True             False              True           False   \n",
       "1              False             False             False            True   \n",
       "2               True              True              True           False   \n",
       "3              False             False             False            True   \n",
       "4               True             False              True           False   \n",
       "\n",
       "   RestingECG_Normal  RestingECG_ST  ST_Slope_Flat  ST_Slope_Up  Sex_M  \n",
       "0               True          False          False         True   True  \n",
       "1              False           True           True        False  False  \n",
       "2               True          False          False         True   True  \n",
       "3               True          False           True        False   True  \n",
       "4              False           True          False         True  False  "
      ]
     },
     "execution_count": 6,
     "metadata": {},
     "output_type": "execute_result"
    }
   ],
   "source": [
    "# Define the data for several new patients\n",
    "nuevos_pacientes = {\n",
    "    'Age': [55, 60, 45, 50, 65],\n",
    "    'Cholesterol': [220.0, 180.0, 250.0, 200.0, 230.0],\n",
    "    'MaxHR': [130.0, 150.0, 140.0, 160.0, 135.0],\n",
    "    'Oldpeak': [1.5, 0.5, 2.0, 1.0, 1.8],\n",
    "    'RestingBP': [140.0, 130.0, 145.0, 135.0, 150.0],\n",
    "    'ChestPainType_ATA': [False, True, False, True, False],\n",
    "    'ChestPainType_NAP': [True, False, True, False, True],\n",
    "    'ChestPainType_TA': [False, False, True, False, False],\n",
    "    'ExerciseAngina_Y': [True, False, True, False, True],\n",
    "    'FastingBS_True': [False, True, False, True, False],\n",
    "    'RestingECG_Normal': [True, False, True, True, False],\n",
    "    'RestingECG_ST': [False, True, False, False, True],\n",
    "    'ST_Slope_Flat': [False, True, False, True, False],\n",
    "    'ST_Slope_Up': [True, False, True, False, True],\n",
    "    'Sex_M': [True, False, True, True, False]\n",
    "}\n",
    "\n",
    "# Create the DataFrame\n",
    "nuevos_pacientes_df = pd.DataFrame(nuevos_pacientes)\n",
    "\n",
    "# Display the DataFrame\n",
    "nuevos_pacientes_df"
   ]
  },
  {
   "cell_type": "markdown",
   "metadata": {},
   "source": [
    "### Predictions and results"
   ]
  },
  {
   "cell_type": "code",
   "execution_count": 7,
   "metadata": {},
   "outputs": [],
   "source": [
    "# Make predictions\n",
    "predicciones = loaded_model.predict(nuevos_pacientes_df)"
   ]
  },
  {
   "cell_type": "code",
   "execution_count": 8,
   "metadata": {},
   "outputs": [],
   "source": [
    "# Get the percent probability of the prediction\n",
    "probabilidades = loaded_model.predict_proba(nuevos_pacientes_df)"
   ]
  },
  {
   "cell_type": "code",
   "execution_count": 9,
   "metadata": {},
   "outputs": [
    {
     "name": "stdout",
     "output_type": "stream",
     "text": [
      "Predicción para el paciente 1: Hay una probabilidad del 64.50% de NO sufrir una enfermedad cardíaca.\n",
      "Predicción para el paciente 2: Hay una probabilidad del 69.83% de sufrir una enfermedad cardíaca.\n",
      "Predicción para el paciente 3: Hay una probabilidad del 56.88% de NO sufrir una enfermedad cardíaca.\n",
      "Predicción para el paciente 4: Hay una probabilidad del 66.50% de NO sufrir una enfermedad cardíaca.\n",
      "Predicción para el paciente 5: Hay una probabilidad del 60.96% de NO sufrir una enfermedad cardíaca.\n"
     ]
    }
   ],
   "source": [
    "# Display the prediction results with their percent probability\n",
    "resultados = []\n",
    "for pred, prob in zip(predicciones, probabilidades):\n",
    "    if pred == 1:\n",
    "        resultado = f\"Hay una probabilidad del {prob[1] * 100:.2f}% de sufrir una enfermedad cardíaca.\"\n",
    "    else:\n",
    "        resultado = f\"Hay una probabilidad del {prob[0] * 100:.2f}% de NO sufrir una enfermedad cardíaca.\"\n",
    "    resultados.append(resultado)\n",
    "\n",
    "for i, resultado in enumerate(resultados):\n",
    "    print(f\"Predicción para el paciente {i+1}: {resultado}\")"
   ]
  }
 ],
 "metadata": {
  "kernelspec": {
   "display_name": "Python 3",
   "language": "python",
   "name": "python3"
  },
  "language_info": {
   "codemirror_mode": {
    "name": "ipython",
    "version": 3
   },
   "file_extension": ".py",
   "mimetype": "text/x-python",
   "name": "python",
   "nbconvert_exporter": "python",
   "pygments_lexer": "ipython3",
   "version": "3.10.11"
  }
 },
 "nbformat": 4,
 "nbformat_minor": 2
}
