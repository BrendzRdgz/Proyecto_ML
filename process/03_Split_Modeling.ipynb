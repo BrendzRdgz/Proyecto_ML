{
 "cells": [
  {
   "cell_type": "markdown",
   "metadata": {},
   "source": [
    "## Split and Modeling"
   ]
  },
  {
   "cell_type": "markdown",
   "metadata": {},
   "source": [
    "**Index**\n",
    "\n",
    "1. [Import libraries](#import-libraries)\n",
    "2. [Import data](#import-data)\n",
    "3. [Dataset Splitting](#Dataset-Splitting)\n",
    "4. [Modeling and Model Evaluation](#Modeling-and-Model-Evaluation)\n",
    "5. [Results and Selection of the Best Model](#Results-and-Selection-of-the-Best-Model)\n",
    "6. [Save the trained model](#Save-the-trained-model)"
   ]
  },
  {
   "cell_type": "markdown",
   "metadata": {},
   "source": [
    "### Import libraries"
   ]
  },
  {
   "cell_type": "code",
   "execution_count": 1,
   "metadata": {},
   "outputs": [],
   "source": [
    "import numpy as np\n",
    "import pandas as pd\n",
    "import seaborn as sns\n",
    "import matplotlib.pyplot as plt\n",
    "import os\n",
    "\n",
    "import warnings\n",
    "warnings.filterwarnings(\"ignore\")\n",
    "\n",
    "from toolbox_ML import *\n",
    "from bootcampviztools import *\n",
    "\n",
    "from sklearn.model_selection import train_test_split, cross_val_score, GridSearchCV, RandomizedSearchCV\n",
    "from sklearn.preprocessing import StandardScaler\n",
    "from sklearn.metrics import ConfusionMatrixDisplay, accuracy_score, recall_score, precision_score, f1_score, confusion_matrix, classification_report\n",
    "from sklearn.linear_model import LogisticRegression\n",
    "from sklearn.tree import DecisionTreeClassifier\n",
    "from sklearn.ensemble import RandomForestClassifier\n",
    "from xgboost import XGBClassifier\n",
    "from lightgbm import LGBMClassifier\n",
    "from catboost import CatBoostClassifier\n",
    "from sklearn.svm import SVC\n",
    "from sklearn.neighbors import KNeighborsClassifier"
   ]
  },
  {
   "cell_type": "markdown",
   "metadata": {},
   "source": [
    "### Import data"
   ]
  },
  {
   "cell_type": "code",
   "execution_count": 2,
   "metadata": {},
   "outputs": [],
   "source": [
    "# Define the paths to the CSV files\n",
    "data_folder = '../data_sample'\n",
    "data_path = os.path.join(data_folder, 'data_final_preprocessed.csv')"
   ]
  },
  {
   "cell_type": "code",
   "execution_count": 3,
   "metadata": {},
   "outputs": [],
   "source": [
    "# Read the CSV files\n",
    "df = pd.read_csv(data_path)"
   ]
  },
  {
   "cell_type": "markdown",
   "metadata": {},
   "source": [
    "### Dataset Splitting"
   ]
  },
  {
   "cell_type": "code",
   "execution_count": 4,
   "metadata": {},
   "outputs": [],
   "source": [
    "# Define features and target\n",
    "X = df.drop('HeartDisease', axis=1)\n",
    "y = df['HeartDisease']\n"
   ]
  },
  {
   "cell_type": "code",
   "execution_count": 5,
   "metadata": {},
   "outputs": [],
   "source": [
    "# Split the dataset into training and test sets\n",
    "X_train, X_test, y_train, y_test = train_test_split(X, y, test_size=0.2, random_state=42, stratify=y)"
   ]
  },
  {
   "cell_type": "code",
   "execution_count": 6,
   "metadata": {},
   "outputs": [
    {
     "name": "stdout",
     "output_type": "stream",
     "text": [
      "(970, 15)\n",
      "(970,)\n",
      "(243, 15)\n",
      "(243,)\n"
     ]
    }
   ],
   "source": [
    "print (X_train.shape)\n",
    "print (y_train.shape)\n",
    "print (X_test.shape)\n",
    "print (y_test.shape)"
   ]
  },
  {
   "cell_type": "code",
   "execution_count": 7,
   "metadata": {},
   "outputs": [],
   "source": [
    "# Normalization of numerical features\n",
    "scaler = StandardScaler()\n",
    "\n",
    "X_train_scaled = scaler.fit_transform(X_train)\n",
    "X_test_scaled = scaler.transform(X_test)"
   ]
  },
  {
   "cell_type": "markdown",
   "metadata": {},
   "source": [
    "### Modeling and Model Evaluation"
   ]
  },
  {
   "cell_type": "code",
   "execution_count": 8,
   "metadata": {},
   "outputs": [],
   "source": [
    "# I initialize all models with their default hyperparameters.\n",
    "model_names = [\"Logistic Regression\",\"DecisionTree\",\"Random Forest\",\"XGBoost\",\"LightGBM\",\"CatBoost\"]\n",
    "lr_clf = LogisticRegression(max_iter = 10000)\n",
    "tree_clf = DecisionTreeClassifier(random_state= 42)\n",
    "rf_clf = RandomForestClassifier(random_state= 42)\n",
    "xgb_clf = XGBClassifier(random_state = 42)\n",
    "lgb_clf = LGBMClassifier(random_state= 42, verbose = -100)\n",
    "cat_clf = CatBoostClassifier(random_state= 42, verbose = False)"
   ]
  },
  {
   "cell_type": "code",
   "execution_count": 9,
   "metadata": {},
   "outputs": [],
   "source": [
    "# List with all models\n",
    "model_set = [lr_clf, tree_clf, rf_clf, xgb_clf, lgb_clf, cat_clf]"
   ]
  },
  {
   "cell_type": "code",
   "execution_count": 10,
   "metadata": {},
   "outputs": [],
   "source": [
    "# I compare all models using cross-validation.\n",
    "metricas_cv = {}\n",
    "valores = []\n",
    "for nombre,modelo in zip(model_names, model_set):\n",
    "    #print(modelo)\n",
    "    if nombre != \"Logistic Regression\":\n",
    "        metricas_cv[nombre] = cross_val_score(modelo, X_train, y_train, cv = 3, scoring = \"accuracy\")\n",
    "    else:\n",
    "        metricas_cv[nombre] = cross_val_score(modelo, X_train_scaled, y_train, cv = 3, scoring = \"accuracy\")\n",
    "    valores.append(np.mean(metricas_cv[nombre]))\n",
    "ganador = list(metricas_cv.keys())[np.argmax(valores)]"
   ]
  },
  {
   "cell_type": "code",
   "execution_count": 11,
   "metadata": {},
   "outputs": [
    {
     "name": "stdout",
     "output_type": "stream",
     "text": [
      "Model <Logistic Regression>, Accuracy_CV: 0.8340245129890813\n",
      "Model <DecisionTree>, Accuracy_CV: 0.8134037890659838\n",
      "Model <Random Forest>, Accuracy_CV: 0.8979442979270981\n",
      "Model <XGBoost>, Accuracy_CV: 0.86907401037088\n",
      "Model <LightGBM>, Accuracy_CV: 0.8752659608352763\n",
      "Model <CatBoost>, Accuracy_CV: 0.8876403062849572\n",
      "El ganador es Random Forest\n"
     ]
    }
   ],
   "source": [
    "#I check which model is the best after comparing them.\n",
    "for model_name, valores in metricas_cv.items():\n",
    "    print(f\"Model <{model_name}>, Accuracy_CV: {np.mean(valores)}\")\n",
    "print(f\"El ganador es {ganador}\")"
   ]
  },
  {
   "cell_type": "markdown",
   "metadata": {},
   "source": [
    "### Results and Selection of the Best Model"
   ]
  },
  {
   "cell_type": "code",
   "execution_count": 12,
   "metadata": {},
   "outputs": [
    {
     "name": "stdout",
     "output_type": "stream",
     "text": [
      "Fitting 5 folds for each of 216 candidates, totalling 1080 fits\n",
      "Ramdon Forest best_score: 0.9134020618556702\n",
      "Best parameters found:  {'bootstrap': False, 'max_depth': None, 'min_samples_leaf': 1, 'min_samples_split': 5, 'n_estimators': 200}\n"
     ]
    }
   ],
   "source": [
    "# I optimize the winning model.\n",
    "rf_clf = RandomForestClassifier(random_state= 42)\n",
    "\n",
    "param_grid = {\n",
    "    'n_estimators': [50, 100, 200],\n",
    "    'max_depth': [None, 10, 20, 30],\n",
    "    'min_samples_split': [2, 5, 10],\n",
    "    'min_samples_leaf': [1, 2, 4],\n",
    "    'bootstrap': [True, False]\n",
    "}\n",
    "\n",
    "# Configure GridSearchCV\n",
    "rf_grid = GridSearchCV(estimator=rf_clf, param_grid=param_grid, cv=5, n_jobs=-1, verbose=2)\n",
    "\n",
    "# Perform hyperparameter tuning\n",
    "rf_grid.fit(X_train, y_train)\n",
    "\n",
    "# Display the best found hyperparameters\n",
    "print(\"Ramdon Forest best_score:\", rf_grid.best_score_)\n",
    "print(\"Best parameters found: \", rf_grid.best_params_)"
   ]
  },
  {
   "cell_type": "code",
   "execution_count": 13,
   "metadata": {},
   "outputs": [
    {
     "name": "stdout",
     "output_type": "stream",
     "text": [
      "Fitting 5 folds for each of 96 candidates, totalling 480 fits\n",
      "Ramdon Forest best_score: 0.9154639175257733\n",
      "Best parameters found:  {'min_samples_leaf': 1, 'min_samples_split': 5, 'n_estimators': 500}\n"
     ]
    }
   ],
   "source": [
    "# New model with modified hyperparameters\n",
    "rf = RandomForestClassifier(    \n",
    "    bootstrap=False,\n",
    "    max_depth=None,\n",
    "    min_samples_leaf=1,\n",
    "    min_samples_split=5,\n",
    "    n_estimators=200,\n",
    "    random_state=42)\n",
    "\n",
    "param_grid = {\n",
    "    'n_estimators': [180, 200,250, 300,400,500],\n",
    "    'min_samples_split': [3, 5, 7, 8],\n",
    "    'min_samples_leaf': [1, -2, 0,-3],\n",
    "    \n",
    "}\n",
    "\n",
    "# Configure GridSearchCV\n",
    "rf_grid_2 = GridSearchCV(estimator=rf, param_grid=param_grid, cv=5, n_jobs=-1, verbose=2)\n",
    "\n",
    "# Perform hyperparameter tuning\n",
    "rf_grid_2.fit(X_train, y_train)\n",
    "\n",
    "# Display the best found hyperparameters\n",
    "print(\"Ramdon Forest best_score:\", rf_grid_2.best_score_)\n",
    "print(\"Best parameters found: \", rf_grid_2.best_params_)\n"
   ]
  },
  {
   "cell_type": "code",
   "execution_count": 14,
   "metadata": {},
   "outputs": [
    {
     "name": "stdout",
     "output_type": "stream",
     "text": [
      "Fitting 5 folds for each of 1800 candidates, totalling 9000 fits\n",
      "Random Forest best_score: 0.9164948453608248\n",
      "Best parameters found:  {'criterion': 'entropy', 'max_depth': None, 'max_features': 'sqrt', 'min_samples_leaf': 1, 'min_samples_split': 7, 'n_estimators': 200}\n"
     ]
    }
   ],
   "source": [
    "# Model with the current best parameters\n",
    "rf_3 = RandomForestClassifier(    \n",
    "    bootstrap=False,\n",
    "    max_depth=None,\n",
    "    min_samples_leaf=1,\n",
    "    min_samples_split=5,\n",
    "    n_estimators=500,\n",
    "    random_state=42\n",
    ")\n",
    "\n",
    "# Fine-tuning of hyperparameters\n",
    "param_grid = {\n",
    "    'n_estimators': [200, 300, 400, 500, 600],\n",
    "    'min_samples_split': [3, 5, 7, 10],\n",
    "    'min_samples_leaf': [1, 2, 3],\n",
    "    'max_depth': [None, 10, 20, 30, 40],\n",
    "    'max_features': ['auto', 'sqrt', 'log2'],\n",
    "    'criterion': ['gini', 'entropy']\n",
    "}\n",
    "\n",
    "# Configure GridSearchCV\n",
    "rf_grid_3 = GridSearchCV(estimator=rf, param_grid=param_grid, cv=5, n_jobs=-1, verbose=2)\n",
    "\n",
    "# Perform hyperparameter tuning\n",
    "rf_grid_3.fit(X_train, y_train)\n",
    "\n",
    "# Display the best found hyperparameters\n",
    "print(\"Random Forest best_score:\", rf_grid_3.best_score_)\n",
    "print(\"Best parameters found: \", rf_grid_3.best_params_)"
   ]
  },
  {
   "cell_type": "code",
   "execution_count": 15,
   "metadata": {},
   "outputs": [
    {
     "name": "stdout",
     "output_type": "stream",
     "text": [
      "              precision    recall  f1-score   support\n",
      "\n",
      "           0       0.95      0.90      0.93       114\n",
      "           1       0.92      0.96      0.94       129\n",
      "\n",
      "    accuracy                           0.93       243\n",
      "   macro avg       0.94      0.93      0.93       243\n",
      "weighted avg       0.94      0.93      0.93       243\n",
      "\n"
     ]
    },
    {
     "data": {
      "text/plain": [
       "<sklearn.metrics._plot.confusion_matrix.ConfusionMatrixDisplay at 0x27d788e7ca0>"
      ]
     },
     "execution_count": 15,
     "metadata": {},
     "output_type": "execute_result"
    },
    {
     "data": {
      "image/png": "[encoded data removed]",
      "text/plain": [
       "<Figure size 640x480 with 2 Axes>"
      ]
     },
     "metadata": {},
     "output_type": "display_data"
    }
   ],
   "source": [
    "# Analysis with the third trained model\n",
    "\n",
    "# Predictions from trained model 3\n",
    "y_pred_3 = rf_grid_3.best_estimator_.predict(X_test)\n",
    "\n",
    "# Classification report\n",
    "print(classification_report(y_test, y_pred_3))\n",
    "\n",
    "# Confusion matrix\n",
    "ConfusionMatrixDisplay.from_predictions(y_test, y_pred_3)"
   ]
  },
  {
   "cell_type": "markdown",
   "metadata": {},
   "source": [
    "The third model, despite showing slight improvement over the first, gives the same results when evaluated on the test set. Therefore, I will disregard these changes and keep the first trained model."
   ]
  },
  {
   "cell_type": "code",
   "execution_count": 16,
   "metadata": {},
   "outputs": [
    {
     "name": "stdout",
     "output_type": "stream",
     "text": [
      "              precision    recall  f1-score   support\n",
      "\n",
      "           0       0.95      0.90      0.93       114\n",
      "           1       0.92      0.96      0.94       129\n",
      "\n",
      "    accuracy                           0.93       243\n",
      "   macro avg       0.94      0.93      0.93       243\n",
      "weighted avg       0.94      0.93      0.93       243\n",
      "\n"
     ]
    },
    {
     "data": {
      "text/plain": [
       "<sklearn.metrics._plot.confusion_matrix.ConfusionMatrixDisplay at 0x27d78daa290>"
      ]
     },
     "execution_count": 16,
     "metadata": {},
     "output_type": "execute_result"
    },
    {
     "data": {
      "image/png": "[encoded data removed]",
      "text/plain": [
       "<Figure size 640x480 with 2 Axes>"
      ]
     },
     "metadata": {},
     "output_type": "display_data"
    }
   ],
   "source": [
    "# Study of the initial model\n",
    "\n",
    "# Predictions from the trained model\n",
    "y_pred = rf_grid.best_estimator_.predict(X_test)\n",
    "\n",
    "# Classification report\n",
    "print(classification_report(y_test, y_pred))\n",
    "\n",
    "# Confusion matrix\n",
    "ConfusionMatrixDisplay.from_predictions(y_test, y_pred)"
   ]
  },
  {
   "cell_type": "markdown",
   "metadata": {},
   "source": [
    "This is the study I will consider when saving the model."
   ]
  },
  {
   "cell_type": "code",
   "execution_count": 17,
   "metadata": {},
   "outputs": [],
   "source": [
    "# Identify the false negatives\n",
    "false_negatives_mask = (y_test == 1) & (y_pred == 0)\n",
    "false_negatives = X_test[false_negatives_mask]\n",
    "false_negatives_indices = np.where(false_negatives_mask)[0]"
   ]
  },
  {
   "cell_type": "code",
   "execution_count": 18,
   "metadata": {},
   "outputs": [
    {
     "name": "stdout",
     "output_type": "stream",
     "text": [
      "Number of false negatives: 5\n",
      "Indices of false negatives: [ 37  76 115 183 192]\n"
     ]
    }
   ],
   "source": [
    "print(f\"Number of false negatives: {len(false_negatives_indices)}\")\n",
    "print(\"Indices of false negatives:\", false_negatives_indices)"
   ]
  },
  {
   "cell_type": "code",
   "execution_count": 19,
   "metadata": {},
   "outputs": [
    {
     "name": "stdout",
     "output_type": "stream",
     "text": [
      "Datos de los falsos negativos:\n"
     ]
    },
    {
     "data": {
      "text/html": [
       "<div>\n",
       "<style scoped>\n",
       "    .dataframe tbody tr th:only-of-type {\n",
       "        vertical-align: middle;\n",
       "    }\n",
       "\n",
       "    .dataframe tbody tr th {\n",
       "        vertical-align: top;\n",
       "    }\n",
       "\n",
       "    .dataframe thead th {\n",
       "        text-align: right;\n",
       "    }\n",
       "</style>\n",
       "<table border=\"1\" class=\"dataframe\">\n",
       "  <thead>\n",
       "    <tr style=\"text-align: right;\">\n",
       "      <th></th>\n",
       "      <th>Age</th>\n",
       "      <th>Cholesterol</th>\n",
       "      <th>MaxHR</th>\n",
       "      <th>Oldpeak</th>\n",
       "      <th>RestingBP</th>\n",
       "      <th>ChestPainType_ATA</th>\n",
       "      <th>ChestPainType_NAP</th>\n",
       "      <th>ChestPainType_TA</th>\n",
       "      <th>ExerciseAngina_Y</th>\n",
       "      <th>FastingBS_True</th>\n",
       "      <th>RestingECG_Normal</th>\n",
       "      <th>RestingECG_ST</th>\n",
       "      <th>ST_Slope_Flat</th>\n",
       "      <th>ST_Slope_Up</th>\n",
       "      <th>Sex_M</th>\n",
       "    </tr>\n",
       "  </thead>\n",
       "  <tbody>\n",
       "    <tr>\n",
       "      <th>1092</th>\n",
       "      <td>41</td>\n",
       "      <td>172.0</td>\n",
       "      <td>158.0</td>\n",
       "      <td>0.0</td>\n",
       "      <td>110.0</td>\n",
       "      <td>False</td>\n",
       "      <td>False</td>\n",
       "      <td>False</td>\n",
       "      <td>False</td>\n",
       "      <td>False</td>\n",
       "      <td>False</td>\n",
       "      <td>False</td>\n",
       "      <td>False</td>\n",
       "      <td>True</td>\n",
       "      <td>True</td>\n",
       "    </tr>\n",
       "    <tr>\n",
       "      <th>607</th>\n",
       "      <td>41</td>\n",
       "      <td>239.0</td>\n",
       "      <td>176.0</td>\n",
       "      <td>1.6</td>\n",
       "      <td>125.0</td>\n",
       "      <td>False</td>\n",
       "      <td>False</td>\n",
       "      <td>False</td>\n",
       "      <td>False</td>\n",
       "      <td>True</td>\n",
       "      <td>True</td>\n",
       "      <td>False</td>\n",
       "      <td>False</td>\n",
       "      <td>True</td>\n",
       "      <td>True</td>\n",
       "    </tr>\n",
       "    <tr>\n",
       "      <th>57</th>\n",
       "      <td>41</td>\n",
       "      <td>172.0</td>\n",
       "      <td>158.0</td>\n",
       "      <td>0.0</td>\n",
       "      <td>110.0</td>\n",
       "      <td>False</td>\n",
       "      <td>False</td>\n",
       "      <td>False</td>\n",
       "      <td>False</td>\n",
       "      <td>False</td>\n",
       "      <td>False</td>\n",
       "      <td>False</td>\n",
       "      <td>False</td>\n",
       "      <td>True</td>\n",
       "      <td>True</td>\n",
       "    </tr>\n",
       "    <tr>\n",
       "      <th>735</th>\n",
       "      <td>52</td>\n",
       "      <td>239.0</td>\n",
       "      <td>180.0</td>\n",
       "      <td>3.0</td>\n",
       "      <td>128.0</td>\n",
       "      <td>False</td>\n",
       "      <td>True</td>\n",
       "      <td>False</td>\n",
       "      <td>False</td>\n",
       "      <td>False</td>\n",
       "      <td>False</td>\n",
       "      <td>True</td>\n",
       "      <td>False</td>\n",
       "      <td>True</td>\n",
       "      <td>True</td>\n",
       "    </tr>\n",
       "    <tr>\n",
       "      <th>842</th>\n",
       "      <td>61</td>\n",
       "      <td>200.0</td>\n",
       "      <td>100.0</td>\n",
       "      <td>1.5</td>\n",
       "      <td>142.0</td>\n",
       "      <td>False</td>\n",
       "      <td>False</td>\n",
       "      <td>True</td>\n",
       "      <td>False</td>\n",
       "      <td>True</td>\n",
       "      <td>False</td>\n",
       "      <td>True</td>\n",
       "      <td>False</td>\n",
       "      <td>False</td>\n",
       "      <td>True</td>\n",
       "    </tr>\n",
       "  </tbody>\n",
       "</table>\n",
       "</div>"
      ],
      "text/plain": [
       "      Age  Cholesterol  MaxHR  Oldpeak  RestingBP  ChestPainType_ATA  \\\n",
       "1092   41        172.0  158.0      0.0      110.0              False   \n",
       "607    41        239.0  176.0      1.6      125.0              False   \n",
       "57     41        172.0  158.0      0.0      110.0              False   \n",
       "735    52        239.0  180.0      3.0      128.0              False   \n",
       "842    61        200.0  100.0      1.5      142.0              False   \n",
       "\n",
       "      ChestPainType_NAP  ChestPainType_TA  ExerciseAngina_Y  FastingBS_True  \\\n",
       "1092              False             False             False           False   \n",
       "607               False             False             False            True   \n",
       "57                False             False             False           False   \n",
       "735                True             False             False           False   \n",
       "842               False              True             False            True   \n",
       "\n",
       "      RestingECG_Normal  RestingECG_ST  ST_Slope_Flat  ST_Slope_Up  Sex_M  \n",
       "1092              False          False          False         True   True  \n",
       "607                True          False          False         True   True  \n",
       "57                False          False          False         True   True  \n",
       "735               False           True          False         True   True  \n",
       "842               False           True          False        False   True  "
      ]
     },
     "execution_count": 19,
     "metadata": {},
     "output_type": "execute_result"
    }
   ],
   "source": [
    "# Showing the data of false negatives as a DataFrame\n",
    "false_negatives_df = X_test.iloc[false_negatives_indices]\n",
    "print(\"Datos de los falsos negativos:\")\n",
    "false_negatives_df"
   ]
  },
  {
   "cell_type": "code",
   "execution_count": 20,
   "metadata": {},
   "outputs": [
    {
     "name": "stdout",
     "output_type": "stream",
     "text": [
      "Etiquetas verdaderas de los falsos negativos:\n"
     ]
    },
    {
     "data": {
      "text/plain": [
       "1092    1\n",
       "607     1\n",
       "57      1\n",
       "735     1\n",
       "842     1\n",
       "Name: HeartDisease, dtype: int64"
      ]
     },
     "execution_count": 20,
     "metadata": {},
     "output_type": "execute_result"
    }
   ],
   "source": [
    "# Viewing the corresponding true labels, i.e., those that had a true result in HeartDisease\n",
    "false_negatives_labels = y_test.iloc[false_negatives_indices]\n",
    "print(\"Etiquetas verdaderas de los falsos negativos:\")\n",
    "false_negatives_labels"
   ]
  },
  {
   "cell_type": "markdown",
   "metadata": {},
   "source": [
    "It seems there's nothing exceptional or special at first glance in the cases where the predictor failed. Most of them are individuals around 41 years old, and interestingly, they are all men. It would be wise to pay closer attention to these cases of men aged between 40 and 60 years old."
   ]
  },
  {
   "cell_type": "markdown",
   "metadata": {},
   "source": [
    "### Save the trained model"
   ]
  },
  {
   "cell_type": "code",
   "execution_count": 21,
   "metadata": {},
   "outputs": [],
   "source": [
    "import pickle\n",
    "\n",
    "model_folder = \"../model\"\n",
    "pickle_file = os.path.join(model_folder, \"best_rf_model.pkl\")\n",
    "with open(pickle_file, 'wb') as file:\n",
    "    pickle.dump(rf_grid, file)\n"
   ]
  },
  {
   "cell_type": "markdown",
   "metadata": {},
   "source": [
    "------\n"
   ]
  }
 ],
 "metadata": {
  "kernelspec": {
   "display_name": "Python 3",
   "language": "python",
   "name": "python3"
  },
  "language_info": {
   "codemirror_mode": {
    "name": "ipython",
    "version": 3
   },
   "file_extension": ".py",
   "mimetype": "text/x-python",
   "name": "python",
   "nbconvert_exporter": "python",
   "pygments_lexer": "ipython3",
   "version": "3.10.11"
  }
 },
 "nbformat": 4,
 "nbformat_minor": 2
}
